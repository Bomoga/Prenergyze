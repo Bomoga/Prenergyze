{
 "cells": [
  {
   "cell_type": "code",
   "execution_count": null,
   "id": "96d459ee",
   "metadata": {},
   "outputs": [
    {
     "name": "stdout",
     "output_type": "stream",
     "text": [
      "c:\\software_workspace\\Prenergyze\n"
     ]
    }
   ],
   "source": [
    "import pandas as pd\n",
    "import numpy as np\n",
    "import matplotlib.pyplot as plt\n",
    "import seaborn as sns\n",
    "\n",
    "import os\n",
    "from pathlib import Path\n",
    "\n",
    "BASE_DIR = Path(os.getcwd()).parent.parent"
   ]
  },
  {
   "cell_type": "code",
   "execution_count": 3,
   "id": "1c46796b",
   "metadata": {},
   "outputs": [
    {
     "name": "stdout",
     "output_type": "stream",
     "text": [
      "<class 'pandas.core.frame.DataFrame'>\n",
      "RangeIndex: 17568 entries, 0 to 17567\n",
      "Data columns (total 19 columns):\n",
      " #   Column                      Non-Null Count  Dtype  \n",
      "---  ------                      --------------  -----  \n",
      " 0   Unnamed: 0.1                17568 non-null  int64  \n",
      " 1   date                        17446 non-null  object \n",
      " 2   load                        17434 non-null  float64\n",
      " 3   Unnamed: 0                  17568 non-null  int64  \n",
      " 4   temperature_2m              17548 non-null  float64\n",
      " 5   relative_humidity_2m        17552 non-null  float64\n",
      " 6   apparent_temperature        17555 non-null  float64\n",
      " 7   precipitation               17352 non-null  float64\n",
      " 8   pressure_msl                17452 non-null  float64\n",
      " 9   cloud_cover                 17568 non-null  float64\n",
      " 10  cloud_cover_low             16502 non-null  float64\n",
      " 11  cloud_cover_mid             16682 non-null  float64\n",
      " 12  cloud_cover_high            17568 non-null  float64\n",
      " 13  et0_fao_evapotranspiration  17557 non-null  float64\n",
      " 14  vapour_pressure_deficit     17288 non-null  float64\n",
      " 15  wind_speed_10m              17385 non-null  float64\n",
      " 16  wind_direction_10m          17568 non-null  float64\n",
      " 17  wind_gusts_10m              17393 non-null  float64\n",
      " 18  sunshine_duration           17568 non-null  float64\n",
      "dtypes: float64(16), int64(2), object(1)\n",
      "memory usage: 2.5+ MB\n"
     ]
    }
   ],
   "source": [
    "data_path = os.path.join(BASE_DIR, 'backend', 'data', 'processed', 'CLEAN_MERGED_DATASET.csv')\n",
    "data = pd.read_csv(data_path)\n",
    "\n",
    "data.info()"
   ]
  },
  {
   "cell_type": "code",
   "execution_count": 4,
   "id": "6863f65f",
   "metadata": {},
   "outputs": [
    {
     "name": "stdout",
     "output_type": "stream",
     "text": [
      "<class 'pandas.core.frame.DataFrame'>\n",
      "Index: 15069 entries, 0 to 17445\n",
      "Data columns (total 19 columns):\n",
      " #   Column                      Non-Null Count  Dtype  \n",
      "---  ------                      --------------  -----  \n",
      " 0   Unnamed: 0.1                15069 non-null  int64  \n",
      " 1   date                        15069 non-null  object \n",
      " 2   load                        15069 non-null  float64\n",
      " 3   Unnamed: 0                  15069 non-null  int64  \n",
      " 4   temperature_2m              15069 non-null  float64\n",
      " 5   relative_humidity_2m        15069 non-null  float64\n",
      " 6   apparent_temperature        15069 non-null  float64\n",
      " 7   precipitation               15069 non-null  float64\n",
      " 8   pressure_msl                15069 non-null  float64\n",
      " 9   cloud_cover                 15069 non-null  float64\n",
      " 10  cloud_cover_low             15069 non-null  float64\n",
      " 11  cloud_cover_mid             15069 non-null  float64\n",
      " 12  cloud_cover_high            15069 non-null  float64\n",
      " 13  et0_fao_evapotranspiration  15069 non-null  float64\n",
      " 14  vapour_pressure_deficit     15069 non-null  float64\n",
      " 15  wind_speed_10m              15069 non-null  float64\n",
      " 16  wind_direction_10m          15069 non-null  float64\n",
      " 17  wind_gusts_10m              15069 non-null  float64\n",
      " 18  sunshine_duration           15069 non-null  float64\n",
      "dtypes: float64(16), int64(2), object(1)\n",
      "memory usage: 2.3+ MB\n"
     ]
    }
   ],
   "source": [
    "data.dropna(inplace=True)\n",
    "data.info()"
   ]
  },
  {
   "cell_type": "code",
   "execution_count": null,
   "id": "e66ab485",
   "metadata": {},
   "outputs": [],
   "source": [
    "from sklearn.model_selection import train_test_split\n",
    "\n"
   ]
  }
 ],
 "metadata": {
  "kernelspec": {
   "display_name": ".venv",
   "language": "python",
   "name": "python3"
  },
  "language_info": {
   "codemirror_mode": {
    "name": "ipython",
    "version": 3
   },
   "file_extension": ".py",
   "mimetype": "text/x-python",
   "name": "python",
   "nbconvert_exporter": "python",
   "pygments_lexer": "ipython3",
   "version": "3.13.2"
  }
 },
 "nbformat": 4,
 "nbformat_minor": 5
}
